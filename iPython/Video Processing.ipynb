{
 "cells": [
  {
   "cell_type": "code",
   "execution_count": 2,
   "id": "e3186006",
   "metadata": {},
   "outputs": [],
   "source": [
    "import subprocess\n",
    "import glob\n",
    "import os\n",
    "from datetime import datetime\n",
    "import numpy as np\n",
    "import time"
   ]
  },
  {
   "cell_type": "code",
   "execution_count": 4,
   "id": "08be999f",
   "metadata": {},
   "outputs": [],
   "source": [
    "def h264toMp4(fullfilename,mp4path):\n",
    "    '''Simple conversion from raw h264 videos from RPi to MP4 format with 30fps'''\n",
    "    filename =os.path.basename(fullfilename) #use os.path.basename to extract only filename without path\n",
    "    command = 'ffmpeg -framerate 30 -i %s -qscale:v 0 -vcodec copy -acodec copy %s%s.mp4' %(fullfilename,mp4path,filename)\n",
    "    print('Convert video for %s' %filename)\n",
    "    #print(command)\n",
    "    subprocess.call(command,shell=True) #run command\n",
    "    return\n",
    "\n",
    "def h264toMp4_fps(fullfilename,mp4path,fps):\n",
    "    '''Simple conversion from raw h264 videos from RPi to MP4 format with 30fps'''\n",
    "    filename =os.path.basename(fullfilename) #use os.path.basename to extract only filename without path\n",
    "    timestamp = int(filename[0:10])\n",
    "    command = 'ffmpeg -framerate %d -i %s -qscale:v 0 -vcodec copy -acodec copy %s%d.mp4' %(fps,fullfilename,mp4path,timestamp)\n",
    "    print('Convert video for %d' %timestamp)\n",
    "    #print(command)\n",
    "    subprocess.call(command,shell=True) #run command\n",
    "    return"
   ]
  },
  {
   "cell_type": "code",
   "execution_count": 5,
   "id": "a5262575",
   "metadata": {},
   "outputs": [
    {
     "name": "stdout",
     "output_type": "stream",
     "text": [
      "17\n"
     ]
    }
   ],
   "source": [
    "filepath = 'F:/coralScope/LabTesting/'\n",
    "# filepath = 'D:/TimeLapse/night_vid_20210723/'\n",
    "mp4path = filepath+'mp4/'\n",
    "vidpath = filepath+'*.h264'\n",
    "fontpath = 'C:/Users/tonma/Google Drive/Scripps/Jaffe Lab/PUV/Instrument Code/PUE/Post-processing/cmunbx.ttf'\n",
    "#get the list of filenames of all videos\n",
    "vid_list0 = glob.glob(vidpath) #windows outputs incorrect format\n",
    "vid_list = [filepath + os.path.basename(name) for name in vid_list0] #format the name to correct one\n",
    "print(len(vid_list))"
   ]
  },
  {
   "cell_type": "code",
   "execution_count": 6,
   "id": "07239661",
   "metadata": {},
   "outputs": [
    {
     "name": "stdout",
     "output_type": "stream",
     "text": [
      "Convert video for coral_10.h264\n",
      "Convert video for coral_1.h264\n",
      "Convert video for coral_11.h264\n",
      "Convert video for coral_2.h264\n",
      "Convert video for coral_3.h264\n",
      "Convert video for coral_4.h264\n",
      "Convert video for coral_5.h264\n",
      "Convert video for coral_6.h264\n",
      "Convert video for coral_7.h264\n",
      "Convert video for coral_8.h264\n",
      "Convert video for coral_9.h264\n",
      "Convert video for coral_feeding_1.h264\n",
      "Convert video for coral_feeding_2.h264\n",
      "Convert video for coral_feeding_3.h264\n",
      "Convert video for coral_feeding_4.h264\n",
      "Convert video for coral_feeding_5.h264\n",
      "Convert video for eggs_01.h264\n"
     ]
    }
   ],
   "source": [
    "for filename in vid_list:\n",
    "    h264toMp4(filename,mp4path)"
   ]
  },
  {
   "cell_type": "code",
   "execution_count": null,
   "id": "4f22889b",
   "metadata": {},
   "outputs": [],
   "source": []
  }
 ],
 "metadata": {
  "kernelspec": {
   "display_name": "Python 3 (ipykernel)",
   "language": "python",
   "name": "python3"
  },
  "language_info": {
   "codemirror_mode": {
    "name": "ipython",
    "version": 3
   },
   "file_extension": ".py",
   "mimetype": "text/x-python",
   "name": "python",
   "nbconvert_exporter": "python",
   "pygments_lexer": "ipython3",
   "version": "3.9.7"
  }
 },
 "nbformat": 4,
 "nbformat_minor": 5
}
