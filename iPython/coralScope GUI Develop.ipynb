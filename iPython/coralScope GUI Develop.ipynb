{
 "cells": [
  {
   "cell_type": "code",
   "execution_count": 3,
   "id": "9918129d",
   "metadata": {},
   "outputs": [],
   "source": [
    "import tkinter as tk\n",
    "import os\n",
    "import time\n",
    "from PIL import Image, ImageTk\n",
    "from datetime import datetime"
   ]
  },
  {
   "cell_type": "code",
   "execution_count": 2,
   "id": "4d0a4950",
   "metadata": {},
   "outputs": [],
   "source": [
    "# screen size of raspberry pi\n",
    "w = 800\n",
    "h = 480"
   ]
  },
  {
   "cell_type": "code",
   "execution_count": 7,
   "id": "92ca3fc7",
   "metadata": {},
   "outputs": [],
   "source": [
    "root = tk.Tk()\n",
    "\n",
    "root.title(\"coralScope\")\n",
    "# create a full screen window\n",
    "root.geometry('%dx%d+%d+%d' % (w, h, 0, 0))\n",
    "# root.configure(bg='white')\n",
    "\n",
    "# display logo\n",
    "load = Image.open(\"coralscope_logo.png\")\n",
    "resize_image  = load.resize((100,100))\n",
    "render = ImageTk.PhotoImage(resize_image)\n",
    "img = tk.Label(image=render)\n",
    "img.image = render\n",
    "img.place(x=25, y=25)\n",
    "\n",
    "# Logo Text Label\n",
    "logo_label = tk.Label(root, text=\"CoralScope\",font=(\"Arial\", 25))\n",
    "logo_label.place(x=150, y=25)\n",
    "\n",
    "root.mainloop()"
   ]
  },
  {
   "cell_type": "code",
   "execution_count": 10,
   "id": "dbe8f3eb",
   "metadata": {},
   "outputs": [],
   "source": [
    "class coralScopeApp():\n",
    "    def __init__(self,w=800,h=480,logo_dir=\"coralscope_logo.png\" ):\n",
    "        self.w = w # window width\n",
    "        self.h = h # window height\n",
    "        \n",
    "        self.root = tk.Tk() # main GUI object\n",
    "        \n",
    "        #---------- App Components ---------#\n",
    "        self.root.title(\"coralScope\")\n",
    "        # create a full screen window\n",
    "        self.root.geometry('%dx%d+%d+%d' % (self.w, self.h, 0, 0))\n",
    "        # root.configure(bg='white')\n",
    "\n",
    "        # display logo\n",
    "        load = Image.open(logo_dir)\n",
    "        resize_image  = load.resize((100,100))\n",
    "        render = ImageTk.PhotoImage(resize_image)\n",
    "        img = tk.Label(image=render)\n",
    "        img.image = render\n",
    "        img.place(x=25, y=25)\n",
    "\n",
    "        # Logo Text Label\n",
    "        self.logo_label = tk.Label(text=\"CoralScope\",font=(\"Arial\", 35))\n",
    "        self.logo_label.place(x=150, y=25)\n",
    "        \n",
    "        # version label\n",
    "        self.version_label = tk.Label(text=\"v1.0\",font=(\"Arial\", 15))\n",
    "        self.version_label.place(x=750, y=450)\n",
    "        \n",
    "        # Time label\n",
    "        self.time_label = tk.Label(text=\"00:00:00\",font=(\"Arial\", 25))\n",
    "        self.time_label.place(x=625, y=25)\n",
    "        \n",
    "        # status label\n",
    "        self.status_label = tk.Label(text=\"STATUS: OK\",font=(\"Arial\", 25),bg='green', fg='white')\n",
    "        self.status_label.place(x=150, y=100)\n",
    "        \n",
    "        # -------- Parameter Labels ------#\n",
    "        parameter_font_size = 35\n",
    "        # -- Column 1 --\n",
    "        # water depth\n",
    "        self.wdepth_label = tk.Label(text=\"Depth:\",font=(\"Arial\", parameter_font_size))\n",
    "        self.wdepth_label.place(x=50, y=200)\n",
    "        self.wdepth_value = tk.Label(text=\"50.00 m\",font=(\"Arial\", parameter_font_size))\n",
    "        self.wdepth_value.place(x=200, y=200)\n",
    "        \n",
    "        # water temp\n",
    "        self.wtemp_label = tk.Label(text=\"Temp:\",font=(\"Arial\", parameter_font_size))\n",
    "        self.wtemp_label.place(x=50, y=350)\n",
    "        self.wtemp_value = tk.Label(text=\"25.2 C\",font=(\"Arial\", parameter_font_size))\n",
    "        self.wtemp_value.place(x=200, y=350)\n",
    "        \n",
    "        # Internal temp\n",
    "        self.itemp_label = tk.Label(text=\"iTemp:\",font=(\"Arial\", parameter_font_size))\n",
    "        self.itemp_label.place(x=400, y=200)\n",
    "        self.itemp_value = tk.Label(text=\"25.2 C\",font=(\"Arial\", parameter_font_size))\n",
    "        self.itemp_value.place(x=550, y=200)\n",
    "        \n",
    "        # Internal pressure\n",
    "        self.ipress_label = tk.Label(text=\"iPress:\",font=(\"Arial\", parameter_font_size))\n",
    "        self.ipress_label.place(x=400, y=350)\n",
    "        self.ipress_value = tk.Label(text=\"25.2 kPa\",font=(\"Arial\", parameter_font_size))\n",
    "        self.ipress_value.place(x=550, y=350)\n",
    "        \n",
    "        \n",
    "        \n",
    "        self.updateApp()\n",
    "        self.root.mainloop()\n",
    "    \n",
    "    def updateApp(self):\n",
    "        now_string = time.strftime(\"%H:%M:%S\")\n",
    "        self.time_label.configure(text=now_string)\n",
    "        \n",
    "        \n",
    "        self.root.after(1000,self.updateApp)\n",
    "        \n",
    "    def \n",
    "        "
   ]
  },
  {
   "cell_type": "code",
   "execution_count": 12,
   "id": "d7ecd91e",
   "metadata": {},
   "outputs": [
    {
     "name": "stdout",
     "output_type": "stream",
     "text": [
      "1\n"
     ]
    }
   ],
   "source": [
    "coralScopeApp()\n",
    "print(1)"
   ]
  },
  {
   "cell_type": "code",
   "execution_count": null,
   "id": "31a0b507",
   "metadata": {},
   "outputs": [],
   "source": []
  }
 ],
 "metadata": {
  "kernelspec": {
   "display_name": "Python 3 (ipykernel)",
   "language": "python",
   "name": "python3"
  },
  "language_info": {
   "codemirror_mode": {
    "name": "ipython",
    "version": 3
   },
   "file_extension": ".py",
   "mimetype": "text/x-python",
   "name": "python",
   "nbconvert_exporter": "python",
   "pygments_lexer": "ipython3",
   "version": "3.10.4"
  }
 },
 "nbformat": 4,
 "nbformat_minor": 5
}
