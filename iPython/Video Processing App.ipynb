{
 "cells": [
  {
   "cell_type": "code",
   "execution_count": 101,
   "id": "fbf1b82a",
   "metadata": {},
   "outputs": [],
   "source": [
    "import tkinter as tk\n",
    "from tkinter import filedialog \n",
    "from PIL import Image, ImageTk\n",
    "import os\n",
    "from datetime import datetime\n",
    "import glob\n",
    "import subprocess\n",
    "import time"
   ]
  },
  {
   "cell_type": "code",
   "execution_count": 110,
   "id": "e64589c4",
   "metadata": {},
   "outputs": [],
   "source": [
    "def h264toMp4(fullfilename,mp4path,fps=30):\n",
    "    '''Simple conversion from raw h264 videos from RPi to MP4 format with 30fps'''\n",
    "    #use os.path.basename to extract only filename without path and extension\n",
    "    filename =os.path.basename(fullfilename).split('.')[0]\n",
    "    # print('%s/%s.mp4'%(mp4path,filename))\n",
    "    command = 'ffmpeg -framerate %d -i %s -qscale:v 0 -vcodec copy -acodec copy %s%s.mp4' %(fps,fullfilename,mp4path,filename)\n",
    "    subprocess.call(command,shell=True) #run command\n",
    "    return"
   ]
  },
  {
   "cell_type": "code",
   "execution_count": 108,
   "id": "ed753aaf",
   "metadata": {},
   "outputs": [],
   "source": [
    "class videoApp():\n",
    "    def __init__(self,w=600,h=480):\n",
    "        self.w = w # window width\n",
    "        self.h = h # window height\n",
    "        \n",
    "        self.logo_dir = \"coralscope_logo.png\"\n",
    "        \n",
    "        self.root = tk.Tk() # main GUI object\n",
    "        \n",
    "    def runGUI(self):\n",
    "        #---------- App Components ---------#\n",
    "        self.root.title(\"coralScope\")\n",
    "        # create a full screen window\n",
    "        self.root.geometry('%dx%d+%d+%d' % (self.w, self.h, 0, 0))\n",
    "        \n",
    "        # display logo\n",
    "        load = Image.open(self.logo_dir)\n",
    "        resize_image  = load.resize((100,100))\n",
    "        render = ImageTk.PhotoImage(resize_image)\n",
    "        img = tk.Label(image=render)\n",
    "        img.image = render\n",
    "        img.place(x=25, y=25)\n",
    "\n",
    "        # Logo Text Label\n",
    "        self.logo_label = tk.Label(text=\"CoralScope\",font=(\"Arial\", 25))\n",
    "        self.logo_label.place(x=150, y=25)\n",
    "        \n",
    "        # Title Text Label\n",
    "        self.title_label = tk.Label(text=\"Video Processing App\",font=(\"Arial\", 25))\n",
    "        self.title_label.place(x=150, y=75)\n",
    "        \n",
    "        # Message label\n",
    "        self.sv = tk.StringVar()\n",
    "        self.message_label = tk.Label(textvariable=self.sv,font=(\"Arial\", 15),bg='green', fg='white')\n",
    "        self.message_label.place(x=100, y=175)\n",
    "        self.sv.set('STATUS: OK')\n",
    "        \n",
    "        # Browse input folder\n",
    "        self.input_folder_button = tk.Button(self.root, text =\"Input Folder\",font=(\"Arial\", 15), command = self.browseInputFolderCallBack)\n",
    "        self.input_folder_button.place(x=100, y=250)\n",
    "        \n",
    "        # Browse output folder\n",
    "        self.output_folder_button = tk.Button(self.root, text =\"Output Folder\",font=(\"Arial\", 15), command = self.browseOutputFolderCallBack)\n",
    "        self.output_folder_button.place(x=100, y=300)\n",
    "        \n",
    "        # Run program\n",
    "        self.run_button = tk.Button(self.root, text =\"RUN\",font=(\"Arial\", 20), command = self.runProgram)\n",
    "        self.run_button.place(x=150, y=350)\n",
    "        \n",
    "        #  output folder label\n",
    "        self.output_folder_label = tk.Label(text=\" \",font=(\"Arial\", 15))\n",
    "        self.output_folder_label.place(x=250, y=300)\n",
    "        \n",
    "        # Detected video labels\n",
    "        self.vidnum_label = tk.Label(text=\" \",font=(\"Arial\", 15))\n",
    "        self.vidnum_label.place(x=250, y=250)\n",
    "        \n",
    "        #self.updateApp()\n",
    "        self.root.mainloop()\n",
    "    \n",
    "    def errorMessage(self,e):\n",
    "        s=str(e)\n",
    "        # update message\n",
    "        self.sv.set('ERROR: %s'%s)\n",
    "        self.message_label.config(bg= \"red\", fg= \"white\")\n",
    "        \n",
    "    def browseInputFolderCallBack(self):\n",
    "        try:\n",
    "            filepath = filedialog.askdirectory() \n",
    "            filepath = filepath + '/'\n",
    "            vidpath = filepath+'*.h264'\n",
    "            # print(vidpath)\n",
    "            #get the list of filenames of all videos\n",
    "            vid_list0 = glob.glob(vidpath) #windows outputs incorrect format\n",
    "            self.vid_list = [filepath + os.path.basename(name) for name in vid_list0] #format the name to correct one\n",
    "            # update message\n",
    "            self.vidnum_label.config(text='%d h264 videos detected'%len(vid_list0))\n",
    "            self.sv.set('Status: Input Loaded')\n",
    "            self.message_label.config(bg= \"green\", fg= \"white\")\n",
    "\n",
    "        except Exception as e:\n",
    "            self.errorMessage(e)\n",
    "            \n",
    "    def browseOutputFolderCallBack(self):\n",
    "        try:\n",
    "            filepath = filedialog.askdirectory()\n",
    "            self.output_path = filepath + '/'\n",
    "            # update message\n",
    "            self.output_folder_label.config(text=self.output_path)\n",
    "            self.sv.set('Status: Output Selected')\n",
    "            self.message_label.config(bg= \"green\", fg= \"white\")\n",
    "\n",
    "        except Exception as e:\n",
    "            self.errorMessage(e)\n",
    "    \n",
    "    def runProgram(self):\n",
    "        try:\n",
    "            self.sv.set('Status: Working')\n",
    "            self.message_label.config(bg= \"orange\", fg= \"white\")\n",
    "            time.sleep(1)\n",
    "            for filename in self.vid_list:\n",
    "                # print(filename)\n",
    "                h264toMp4(filename,self.output_path)\n",
    "            self.sv.set('Status: DONE')\n",
    "            self.message_label.config(bg= \"green\", fg= \"white\")\n",
    "        except Exception as e:\n",
    "            self.errorMessage(e)"
   ]
  },
  {
   "cell_type": "code",
   "execution_count": 109,
   "id": "047623ee",
   "metadata": {},
   "outputs": [
    {
     "name": "stdout",
     "output_type": "stream",
     "text": [
      "F:/Deployment_02/mp4//1685368234.mp4\n",
      "F:/Deployment_02/mp4//1685368464.mp4\n",
      "F:/Deployment_02/mp4//1685368484.mp4\n",
      "F:/Deployment_02/mp4//1685368556.mp4\n",
      "F:/Deployment_02/mp4//1685368643.mp4\n",
      "F:/Deployment_02/mp4//1685368715.mp4\n",
      "F:/Deployment_02/mp4//1685368822.mp4\n",
      "F:/Deployment_02/mp4//1685368894.mp4\n",
      "F:/Deployment_02/mp4//1685368966.mp4\n",
      "F:/Deployment_02/mp4//1685369052.mp4\n",
      "F:/Deployment_02/mp4//1685369124.mp4\n",
      "F:/Deployment_02/mp4//1685369196.mp4\n",
      "F:/Deployment_02/mp4//1685369268.mp4\n",
      "F:/Deployment_02/mp4//1685369340.mp4\n",
      "F:/Deployment_02/mp4//1685369412.mp4\n",
      "F:/Deployment_02/mp4//1685369564.mp4\n",
      "F:/Deployment_02/mp4//1685369637.mp4\n",
      "F:/Deployment_02/mp4//1685369715.mp4\n"
     ]
    }
   ],
   "source": [
    "app = videoApp()\n",
    "app.runGUI()"
   ]
  },
  {
   "cell_type": "code",
   "execution_count": 93,
   "id": "a6256f37",
   "metadata": {},
   "outputs": [
    {
     "data": {
      "text/plain": [
       "'abc'"
      ]
     },
     "execution_count": 93,
     "metadata": {},
     "output_type": "execute_result"
    }
   ],
   "source": [
    "a = 'abc.def'\n",
    "a.split('.')[0]"
   ]
  },
  {
   "cell_type": "code",
   "execution_count": null,
   "id": "a65adfd9",
   "metadata": {},
   "outputs": [],
   "source": []
  }
 ],
 "metadata": {
  "kernelspec": {
   "display_name": "Python 3 (ipykernel)",
   "language": "python",
   "name": "python3"
  },
  "language_info": {
   "codemirror_mode": {
    "name": "ipython",
    "version": 3
   },
   "file_extension": ".py",
   "mimetype": "text/x-python",
   "name": "python",
   "nbconvert_exporter": "python",
   "pygments_lexer": "ipython3",
   "version": "3.10.4"
  }
 },
 "nbformat": 4,
 "nbformat_minor": 5
}
